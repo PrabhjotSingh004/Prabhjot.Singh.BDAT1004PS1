{
 "cells": [
  {
   "cell_type": "markdown",
   "metadata": {},
   "source": [
    "# Question 1 "
   ]
  },
  {
   "cell_type": "markdown",
   "metadata": {},
   "source": [
    "|Question          | Data Type                                   |                         \n",
    "| :---             |-----------------:                           |          \n",
    "| 5                | Integer                                     |        \n",
    "| 5.0              | Float                                       |  \n",
    "| 5 > 1            | Boolean                                     |  \n",
    "| '5'              | String                                      |  \n",
    "| 5 * 2            | Integer                                     |   \n",
    "| '5' * 2          | String                                      | \n",
    "| '5' + '2'        | String                                      |\n",
    "| 5 / 2            | Float                                       |\n",
    "| 5 // 2           | Integer                                     |\n",
    "| [5, 2, 1]        | Array                                       |\n",
    "| 5 in [1, 4, 6]   | Boolean                                     |\n",
    "| Pi (the number)  | Float                                       |"
   ]
  },
  {
   "cell_type": "markdown",
   "metadata": {},
   "source": [
    "# Question 2 "
   ]
  },
  {
   "cell_type": "code",
   "execution_count": 35,
   "metadata": {},
   "outputs": [
    {
     "name": "stdout",
     "output_type": "stream",
     "text": [
      "A) length of string\n",
      "Answer : 34\n",
      "B) 'Supercalifragilisticexpialidocious' contain 'ice' ?\n",
      "Answer : True\n",
      "C) Which of the following words is the longest: Supercalifragilisticexpialidocious, Honorificabilitudinitatibus,or Bababadalgharaghtakamminarronnkonn?\n",
      "Answer : Supercalifragilisticexpialidocious is the longest\n",
      "D) Which composer comes first in the dictionary: 'Berlioz', 'Borodin', 'Brian', 'Bartok', 'Bellini', 'Buxtehude', 'Bernstein'. Which one comes last?\n",
      "Answer : Buxtehude\n"
     ]
    }
   ],
   "source": [
    "String str = \"Supercalifragilisticexpialidocious\";\n",
    "String substr1 = \"ice\";\n",
    "int p = str.Length;\n",
    "Console.WriteLine(\"A) length of string\");\n",
    "Console.WriteLine(\"Answer : \" + p);\n",
    "Console.WriteLine(\"B) 'Supercalifragilisticexpialidocious' contain 'ice' ?\");\n",
    "Console.WriteLine(\"Answer : \" + str.Contains(substr1));\n",
    "Console.WriteLine(\"C) Which of the following words is the longest: Supercalifragilisticexpialidocious, Honorificabilitudinitatibus,or Bababadalgharaghtakamminarronnkonn?\");\n",
    "String str1 = \"Supercalifragilisticexpialidocious\";\n",
    "String str2 = \"Honorificabilitudinitatibus\";\n",
    "String str3 = \"Bababadalgharaghtakamminarronnkonn\";\n",
    "int l1 = str1.Length;\n",
    "int l2 = str2.Length;\n",
    "int l3 = str3.Length;\n",
    "if(l1>l2)\n",
    "{\n",
    "    Console.WriteLine(\"Answer : Supercalifragilisticexpialidocious is the longest\");\n",
    "}\n",
    "else if (l2>l3)\n",
    "{\n",
    "    Console.WriteLine(\"Answer : Honorificabilitudinitatibus is the longest\");\n",
    "}\n",
    "else\n",
    "{\n",
    "    Console.WriteLine(\"Answer : Bababadalgharaghtakamminarronnkonn\");\n",
    "}\n",
    "Console.Write(\"D) Which composer comes first in the dictionary: 'Berlioz', 'Borodin', 'Brian', 'Bartok', 'Bellini', 'Buxtehude', 'Bernstein'. Which one comes last?\\n\");\n",
    "\n",
    "var slists = new SortedSet<String>();\n",
    "slists.Add(\"Berlioz\");\n",
    "slists.Add(\"Borodin\");\n",
    "slists.Add(\"Brian\");\n",
    "slists.Add(\"Bartok\");\n",
    "slists.Add(\"Bellini\");\n",
    "slists.Add(\"Buxtehude\");\n",
    "slists.Add(\"Bernstein\");\n",
    "Console.WriteLine(\"Answer : \" + slists.Last());"
   ]
  },
  {
   "cell_type": "markdown",
   "metadata": {},
   "source": [
    "# QUESTION 3"
   ]
  },
  {
   "cell_type": "code",
   "execution_count": 4,
   "metadata": {},
   "outputs": [
    {
     "name": "stdout",
     "output_type": "stream",
     "text": [
      "Answer : 1.7320508075688772"
     ]
    }
   ],
   "source": [
    "double a = 2;\n",
    "double b = 2;\n",
    "double c = 2;\n",
    "\n",
    "double area = trianglearea(a,b,c);\n",
    "Console.Write(\"Answer : \" + area); \n",
    "\n",
    " public double trianglearea(double s1, double s2, double s3)\n",
    "  {\n",
    "    double s = (a + b + c) / 2;\n",
    "    return Math.Sqrt(s * (s-a) * (s-b) * (s-c));\n",
    "  }"
   ]
  },
  {
   "cell_type": "markdown",
   "metadata": {},
   "source": [
    "# QUESTION 4"
   ]
  },
  {
   "cell_type": "code",
   "execution_count": 24,
   "metadata": {},
   "outputs": [
    {
     "name": "stdout",
     "output_type": "stream",
     "text": [
      "The Even elements are:\n",
      "42\n",
      "56\n",
      "32\n",
      "The odd elements are:\n",
      "25\n",
      "47\n"
     ]
    }
   ],
   "source": [
    "int[] arr = new int[5]{25,47,42,56,32};\n",
    "int n = 0;\n",
    "int m = 0;\n",
    "for(int i =0; i<arr.Length ; i++)\n",
    "{\n",
    "if(arr[i]%2==0)\n",
    "{\n",
    "n++;\n",
    "}\n",
    "else\n",
    "{\n",
    "m++;\n",
    "}\n",
    "}\n",
    "int[] even = new int[n];\n",
    "int[] odd = new int[m];\n",
    "int p = 0;\n",
    "int q = 0;\n",
    "for(int i =0; i<arr.Length ; i++)\n",
    "{\n",
    "if(arr[i]%2==0)\n",
    "{\n",
    "even[p]  =  arr[i];\n",
    "p++;\n",
    "}\n",
    "else\n",
    "{\n",
    "odd[q]  =  arr[i];\n",
    "q++;\n",
    "}\n",
    "}\n",
    "Console.WriteLine(\"The Even elements are:\");\n",
    "for(int i =0; i<even.Length ; i++)\n",
    "{Console.WriteLine(even[i]);}\n",
    "Console.WriteLine(\"The odd elements are:\");\n",
    "for(int i =0; i<odd.Length ; i++)\n",
    "{Console.WriteLine(odd[i]);}\n"
   ]
  },
  {
   "cell_type": "markdown",
   "metadata": {},
   "source": [
    "# QUESTION 5"
   ]
  },
  {
   "cell_type": "markdown",
   "metadata": {},
   "source": [
    "PART A"
   ]
  },
  {
   "cell_type": "code",
   "execution_count": 37,
   "metadata": {},
   "outputs": [
    {
     "name": "stdout",
     "output_type": "stream",
     "text": [
      "true\r\n"
     ]
    }
   ],
   "source": [
    "int a = inside(1,1,0,0,2,3);\n",
    "if(a == 1)\n",
    "{\n",
    "Console.WriteLine(\"true\");\n",
    "}\n",
    "else\n",
    "Console.WriteLine(\"false\");\n",
    "public int inside(int x, int y, int x1, int y1, int x2, int y2)\n",
    "{\n",
    "if ((x<x2 && x>x1) && (y<y2 && y>y1))\n",
    "{\n",
    "return 1;\n",
    "}\n",
    "else\n",
    "return 0;\n",
    "}\n"
   ]
  },
  {
   "cell_type": "code",
   "execution_count": 42,
   "metadata": {},
   "outputs": [
    {
     "name": "stdout",
     "output_type": "stream",
     "text": [
      "False\r\n"
     ]
    }
   ],
   "source": [
    "Console.WriteLine(inside(-1,-1,0,0,2,3));\n",
    "public Boolean inside(int x, int y, int x1, int y1, int x2, int y2)\n",
    "{\n",
    "if ((x<x2 && x>x1) && (y<y2 && y>y1))\n",
    "{\n",
    "return true;\n",
    "}\n",
    "else\n",
    "return false;\n",
    "}"
   ]
  },
  {
   "cell_type": "markdown",
   "metadata": {},
   "source": [
    "PART B"
   ]
  },
  {
   "cell_type": "code",
   "execution_count": 53,
   "metadata": {},
   "outputs": [
    {
     "name": "stdout",
     "output_type": "stream",
     "text": [
      "QUESTION : \n",
      " whether the point (1,1) lies in both of the following rectangles: one with \n",
      "\n",
      " lower left corner (0.3, 0.5) and upper right corner (1.1, 0.7) \n",
      "\n",
      " ANSWER : False\n",
      "\n",
      "\n",
      "\n",
      "\n",
      "QUESTION : \n",
      " whether the point (1,1) lies in both of the following rectangles: one with \n",
      "\n",
      " lower left corner (0.5, 0.2) and upper right corner (1.1, 2) \n",
      "\n",
      " ANSWER : True\n"
     ]
    }
   ],
   "source": [
    "Console.WriteLine(\"QUESTION : \\n whether the point (1,1) lies in both of the following rectangles: one with \\n\\n lower left corner (0.3, 0.5) and upper right corner (1.1, 0.7) \\n\\n ANSWER : \" + inside(1,1,0.3,0.5,1.1,0.7));\n",
    "Console.WriteLine(\"\\n\\n\\n\");\n",
    "Console.WriteLine(\"QUESTION : \\n whether the point (1,1) lies in both of the following rectangles: one with \\n\\n lower left corner (0.5, 0.2) and upper right corner (1.1, 2) \\n\\n ANSWER : \" + inside(1,1,0.5,0.2,1.1,2));\n",
    "public Boolean inside(double x, double y, double x1, double y1, double x2, double y2)\n",
    "{\n",
    "if ((x<x2 && x>x1) && (y<y2 && y>y1))\n",
    "{\n",
    "return true;\n",
    "}\n",
    "else\n",
    "return false;\n",
    "}"
   ]
  },
  {
   "cell_type": "code",
   "execution_count": null,
   "metadata": {},
   "outputs": [],
   "source": []
  }
 ],
 "metadata": {
  "kernelspec": {
   "display_name": ".NET (C#)",
   "language": "C#",
   "name": ".net-csharp"
  },
  "language_info": {
   "file_extension": ".cs",
   "mimetype": "text/x-csharp",
   "name": "C#",
   "pygments_lexer": "csharp",
   "version": "8.0"
  }
 },
 "nbformat": 4,
 "nbformat_minor": 4
}
