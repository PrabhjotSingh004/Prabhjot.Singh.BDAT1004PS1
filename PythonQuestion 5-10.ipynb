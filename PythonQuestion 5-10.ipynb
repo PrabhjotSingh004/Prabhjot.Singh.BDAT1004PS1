{
 "cells": [
  {
   "cell_type": "markdown",
   "metadata": {},
   "source": [
    "# QUESTION 6"
   ]
  },
  {
   "cell_type": "code",
   "execution_count": 52,
   "metadata": {},
   "outputs": [
    {
     "data": {
      "text/plain": [
       "'enterway'"
      ]
     },
     "execution_count": 52,
     "metadata": {},
     "output_type": "execute_result"
    }
   ],
   "source": [
    "def pig(str):\n",
    "    str=str.lower()\n",
    "    if str[0] in ('aeiouAEOUI'):\n",
    "        return str + \"way\"     \n",
    "    else:\n",
    "        return str[1:] + str[0] + \"ay\"\n",
    "\n",
    "pig('Enter')"
   ]
  },
  {
   "cell_type": "code",
   "execution_count": 53,
   "metadata": {},
   "outputs": [
    {
     "data": {
      "text/plain": [
       "'appyhay'"
      ]
     },
     "execution_count": 53,
     "metadata": {},
     "output_type": "execute_result"
    }
   ],
   "source": [
    "def pig(str):\n",
    "    str=str.lower()\n",
    "    str = str.lower()\n",
    "    if str[0] in ('aeiouAEOUI'):\n",
    "        return str + \"way\"     \n",
    "    else:\n",
    "        return str[1:] + str[0] + \"ay\"\n",
    "\n",
    "pig('happy')"
   ]
  },
  {
   "cell_type": "markdown",
   "metadata": {},
   "source": [
    "# QUESTION 7"
   ]
  },
  {
   "cell_type": "code",
   "execution_count": 46,
   "metadata": {
    "scrolled": true
   },
   "outputs": [
    {
     "name": "stdout",
     "output_type": "stream",
     "text": [
      "There are\n",
      "28\n",
      "patients of blood type A.\n",
      "\n",
      "There are\n",
      "14\n",
      "patients of blood type B.\n",
      "\n",
      "There are\n",
      "0\n",
      "patients of blood type AB.\n",
      "\n",
      "There are\n",
      "15\n",
      "patients of blood type O.\n",
      "\n",
      "There are\n",
      "0\n",
      "patients of blood type OO.\n",
      "\n"
     ]
    }
   ],
   "source": [
    "path=\"/Users/16476/Desktop/bloodtype1.txt\"\n",
    "file = open(path,'r')\n",
    "str = file.readline()\n",
    "\n",
    "\n",
    "def bldcount(str):\n",
    "    str = str.split()\n",
    "ab = 0\n",
    "b = 0\n",
    "o = 0\n",
    "a = 0\n",
    "oo = 0\n",
    "for bloodgroup in str:\n",
    "    if 'AB' in bloodgroup:\n",
    "        ab = ab+1\n",
    "    elif 'B' in bloodgroup:\n",
    "        b = b+1\n",
    "    elif 'A' in bloodgroup:\n",
    "        a = a+1\n",
    "    elif 'O' in bloodgroup:\n",
    "        o = o+1\n",
    "    elif 'OO' in bloodgroup:\n",
    "        oo = oo+1\n",
    "\n",
    "print (\"There are\")\n",
    "print(a)\n",
    "print(\"patients of blood type A.\")\n",
    "print()\n",
    "print (\"There are\")\n",
    "print(b)\n",
    "print(\"patients of blood type B.\")\n",
    "print()\n",
    "\n",
    "print (\"There are\")\n",
    "print(ab)\n",
    "print(\"patients of blood type AB.\")\n",
    "print()\n",
    "\n",
    "\n",
    "print (\"There are\")\n",
    "print(o)\n",
    "print(\"patients of blood type O.\")\n",
    "print()\n",
    "\n",
    "print (\"There are\")\n",
    "print(oo)\n",
    "print(\"patients of blood type OO.\")\n",
    "print()\n",
    "\n",
    "\n",
    "bldcount(str)"
   ]
  },
  {
   "cell_type": "markdown",
   "metadata": {},
   "source": [
    "# QUESTION 8"
   ]
  },
  {
   "cell_type": "code",
   "execution_count": 50,
   "metadata": {},
   "outputs": [
    {
     "ename": "IndentationError",
     "evalue": "expected an indented block (<ipython-input-50-f25e1123b5e9>, line 10)",
     "output_type": "error",
     "traceback": [
      "\u001b[1;36m  File \u001b[1;32m\"<ipython-input-50-f25e1123b5e9>\"\u001b[1;36m, line \u001b[1;32m10\u001b[0m\n\u001b[1;33m    curconv('EUR', 100)\u001b[0m\n\u001b[1;37m    ^\u001b[0m\n\u001b[1;31mIndentationError\u001b[0m\u001b[1;31m:\u001b[0m expected an indented block\n"
     ]
    }
   ],
   "source": [
    "path=\"/Users/16476/Desktop/currencies.txt\"\n",
    "file = open(path,'r')\n",
    "str = file.readline()\n",
    "\n",
    "\n",
    "def curconv(str,i):\n",
    "    \n",
    "    \n",
    "curconv('EUR', 100)\n",
    "curconv('JPY', 100)"
   ]
  },
  {
   "cell_type": "markdown",
   "metadata": {},
   "source": [
    "# QUESTION 9 "
   ]
  },
  {
   "cell_type": "markdown",
   "metadata": {},
   "source": [
    "a) Trying to add incompatible variables, as in adding 6 + ‘a’\n",
    "answer: this will cause typeerror\n",
    "b) Referring to the 12thitem of a list that has only 10 items\n",
    "answer: this will cause index error\n",
    "c) Using a value that is out of range for a function’s input, such as calling math.sqrt(-1.0)\n",
    "answer: this will value error\n",
    "d) Using an undeclared variable, such as print(x)when x has not been defined \n",
    "answer: this will cause name error\n",
    "e) Trying to open a file that does not exist, such as mistyping the file name or looking in the wrong directory.\n",
    "answer: this will cause erroneous error"
   ]
  },
  {
   "cell_type": "markdown",
   "metadata": {},
   "source": [
    "# QUESTION 10 "
   ]
  },
  {
   "cell_type": "code",
   "execution_count": 47,
   "metadata": {},
   "outputs": [
    {
     "ename": "NameError",
     "evalue": "name 'sentence' is not defined",
     "output_type": "error",
     "traceback": [
      "\u001b[1;31m---------------------------------------------------------------------------\u001b[0m",
      "\u001b[1;31mNameError\u001b[0m                                 Traceback (most recent call last)",
      "\u001b[1;32m<ipython-input-47-fff1294744ce>\u001b[0m in \u001b[0;36m<module>\u001b[1;34m\u001b[0m\n\u001b[0;32m      3\u001b[0m         \u001b[0msentence\u001b[0m\u001b[1;33m.\u001b[0m\u001b[0mcount\u001b[0m\u001b[1;33m(\u001b[0m\u001b[0mchar\u001b[0m\u001b[1;33m)\u001b[0m\u001b[1;33m\u001b[0m\u001b[1;33m\u001b[0m\u001b[0m\n\u001b[0;32m      4\u001b[0m \u001b[1;33m\u001b[0m\u001b[0m\n\u001b[1;32m----> 5\u001b[1;33m \u001b[0mfrequencies\u001b[0m\u001b[1;33m(\u001b[0m\u001b[1;34m'apple'\u001b[0m\u001b[1;33m)\u001b[0m\u001b[1;33m\u001b[0m\u001b[1;33m\u001b[0m\u001b[0m\n\u001b[0m",
      "\u001b[1;32m<ipython-input-47-fff1294744ce>\u001b[0m in \u001b[0;36mfrequencies\u001b[1;34m(str)\u001b[0m\n\u001b[0;32m      1\u001b[0m \u001b[1;32mdef\u001b[0m \u001b[0mfrequencies\u001b[0m\u001b[1;33m(\u001b[0m\u001b[0mstr\u001b[0m\u001b[1;33m)\u001b[0m\u001b[1;33m:\u001b[0m\u001b[1;33m\u001b[0m\u001b[1;33m\u001b[0m\u001b[0m\n\u001b[0;32m      2\u001b[0m     \u001b[1;32mfor\u001b[0m \u001b[0mchar\u001b[0m \u001b[1;32min\u001b[0m \u001b[0mstr\u001b[0m\u001b[1;33m:\u001b[0m\u001b[1;33m\u001b[0m\u001b[1;33m\u001b[0m\u001b[0m\n\u001b[1;32m----> 3\u001b[1;33m         \u001b[0msentence\u001b[0m\u001b[1;33m.\u001b[0m\u001b[0mcount\u001b[0m\u001b[1;33m(\u001b[0m\u001b[0mchar\u001b[0m\u001b[1;33m)\u001b[0m\u001b[1;33m\u001b[0m\u001b[1;33m\u001b[0m\u001b[0m\n\u001b[0m\u001b[0;32m      4\u001b[0m \u001b[1;33m\u001b[0m\u001b[0m\n\u001b[0;32m      5\u001b[0m \u001b[0mfrequencies\u001b[0m\u001b[1;33m(\u001b[0m\u001b[1;34m'apple'\u001b[0m\u001b[1;33m)\u001b[0m\u001b[1;33m\u001b[0m\u001b[1;33m\u001b[0m\u001b[0m\n",
      "\u001b[1;31mNameError\u001b[0m: name 'sentence' is not defined"
     ]
    }
   ],
   "source": [
    "def frequencies(str):\n",
    "    for char in str:\n",
    "        sentence.count(char)\n",
    "\n",
    "frequencies('apple')\n"
   ]
  }
 ],
 "metadata": {
  "kernelspec": {
   "display_name": "Python 3",
   "language": "python",
   "name": "python3"
  },
  "language_info": {
   "codemirror_mode": {
    "name": "ipython",
    "version": 3
   },
   "file_extension": ".py",
   "mimetype": "text/x-python",
   "name": "python",
   "nbconvert_exporter": "python",
   "pygments_lexer": "ipython3",
   "version": "3.8.5"
  }
 },
 "nbformat": 4,
 "nbformat_minor": 4
}
